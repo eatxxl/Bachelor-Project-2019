{
 "cells": [
  {
   "cell_type": "code",
   "execution_count": null,
   "metadata": {},
   "outputs": [],
   "source": [
    "\"\"\"\n",
    "This is a project can compute decision tree models \n",
    "by applying online collected data from Moral Machine platform\n",
    "\n",
    "\"\"\""
   ]
  },
  {
   "cell_type": "code",
   "execution_count": 1,
   "metadata": {},
   "outputs": [],
   "source": [
    "# load packages\n",
    "import numpy as np\n",
    "import pandas as pd\n",
    "import random\n",
    "from sklearn import tree\n",
    "from sklearn.model_selection import train_test_split\n",
    "from sklearn.metrics import accuracy_score\n",
    "from sklearn.tree import DecisionTreeClassifier, export_graphviz\n",
    "from IPython.display import SVG, display\n",
    "from graphviz import Source\n",
    "\n",
    "\"\"\"\n",
    " p defines the percentage of the lines\n",
    " if random from [0,1] interval is greater than 0.01 the row will be skipped\n",
    " originally from stackoverflow question no.22258491\n",
    "\"\"\"\n",
    "\n",
    "p = 0.5\n",
    "df = pd.read_csv(\n",
    "         \"SharedResponsesFullFirstSessions.csv\",\n",
    "         header  =0, \n",
    "         skiprows=lambda i: i>0 and random.random() > p\n",
    ")"
   ]
  },
  {
   "cell_type": "code",
   "execution_count": null,
   "metadata": {},
   "outputs": [],
   "source": [
    "# print functions for basic info\n",
    "# not necessary for decision tree\n",
    "\n",
    "print(df.shape)\n",
    "print(df.columns)\n",
    "\n",
    "pd.set_option('display.max_columns', 100)\n",
    "pd.set_option('display.max_rows', 100)\n",
    "print(df.head(100))         # show the first 100 entries\n",
    "\n",
    "NoIDcolumns = ['ScenarioOrder','Intervention', 'PedPed', 'Barrier', \n",
    "                'CrossingSignal', 'AttributeLevel', 'ScenarioTypeStrict', \n",
    "                'ScenarioType', 'DefaultChoice', 'NonDefaultChoice', \n",
    "                'DefaultChoiceIsOmission', 'NumberOfCharacters',\n",
    "                'DiffNumberOFCharacters', 'Saved', 'Template', \n",
    "                'DescriptionShown', 'LeftHand', 'UserCountry3']\n",
    "\n",
    "for i in df[NoIDcolumns]:   # show unique contents in some columns\n",
    "    print(i, \": \", df[i].unique())"
   ]
  },
  {
   "cell_type": "code",
   "execution_count": 2,
   "metadata": {},
   "outputs": [],
   "source": [
    "# removing the randomness in data set\n",
    "mask1=df['ScenarioTypeStrict'] !='Random'\n",
    "mask2=df['ScenarioType'] != 'Random'\n",
    "mask3=df['ScenarioType'].notna()\n",
    "mask4=pd.concat((mask1,mask2,mask3), axis=1)\n",
    "mask5=mask4.all(axis=1)\n",
    "\n",
    "df = df[mask5]"
   ]
  },
  {
   "cell_type": "code",
   "execution_count": 3,
   "metadata": {},
   "outputs": [],
   "source": [
    "# prepare the data\n",
    "# converting string to int \n",
    "for i in ['AttributeLevel', 'ScenarioType', 'DefaultChoice']:\n",
    "    df[i], _ = pd.factorize(df[i])"
   ]
  },
  {
   "cell_type": "code",
   "execution_count": 4,
   "metadata": {},
   "outputs": [],
   "source": [
    "# list1: before correlation\n",
    "\"\"\"\n",
    "list1 = ['Intervention', 'PedPed', 'Barrier', 'CrossingSignal', 'AttributeLevel',\n",
    "        'ScenarioType', 'DefaultChoice', 'DefaultChoiceIsOmission', \n",
    "        'NumberOfCharacters', 'DiffNumberOFCharacters']\n",
    "\"\"\"\n",
    "# list1: after correlation\n",
    "list2 = ['Intervention', 'PedPed', 'Barrier', 'CrossingSignal', 'AttributeLevel',\n",
    "        'DefaultChoiceIsOmission', 'NumberOfCharacters', 'DiffNumberOFCharacters']\n",
    "\n",
    "# set target\n",
    "# X1 = df[list1]\n",
    "X2 = df[list2]\n",
    "Y  = df[['Saved']]"
   ]
  },
  {
   "cell_type": "code",
   "execution_count": null,
   "metadata": {
    "scrolled": true
   },
   "outputs": [],
   "source": [
    "# check their size\n",
    "# not necessary for decision tree\n",
    "\n",
    "print(X2.shape == Y.shape)"
   ]
  },
  {
   "cell_type": "code",
   "execution_count": 5,
   "metadata": {
    "scrolled": true
   },
   "outputs": [
    {
     "data": {
      "text/plain": [
       "'\\nmax_depth = 5, min_sample = 0.01% of 38078300\\n\\nclf_gini = DecisionTreeClassifier(criterion = \"gini\", random_state = 100, max_depth=5,\\n                                  min_samples_leaf=round(38078300/10000))\\nclf_gini.fit(X_train, y_train)\\n\\n'"
      ]
     },
     "execution_count": 5,
     "metadata": {},
     "output_type": "execute_result"
    }
   ],
   "source": [
    "#spilt data into train and test set\n",
    "X_train, X_test, y_train, y_test = train_test_split( X2, Y, test_size = 0.75, random_state = 100)\n",
    "\n",
    "### the ultimate tree ###\n",
    "clf_gini_u = DecisionTreeClassifier(criterion = \"gini\", random_state = 100, max_depth=None,\n",
    "                                  min_samples_leaf=round(38078300/5000))\n",
    "clf_gini_u.fit(X_train, y_train)\n",
    "\n",
    "### The chosen tree ###\n",
    "# max_depth = 5, min_sample = 2% of 38078300\n",
    "# results in a clearer and much smaller tree\n",
    "\n",
    "clf_gini_c = DecisionTreeClassifier(criterion = \"gini\", random_state = 100, max_depth=5,\n",
    "                                  min_samples_leaf=round(38078300/50))\n",
    "clf_gini_c.fit(X_train, y_train)\n",
    "\n",
    "\"\"\"\n",
    "max_depth = 5, min_sample = 0.01% of 38078300\n",
    "\n",
    "clf_gini = DecisionTreeClassifier(criterion = \"gini\", random_state = 100, max_depth=5,\n",
    "                                  min_samples_leaf=round(38078300/10000))\n",
    "clf_gini.fit(X_train, y_train)\n",
    "\n",
    "\"\"\""
   ]
  },
  {
   "cell_type": "code",
   "execution_count": null,
   "metadata": {},
   "outputs": [],
   "source": [
    "# display the utree\n",
    "labels = X2.columns\n",
    "ugraph = Source(tree.export_graphviz(clf_gini_u, out_file= None\n",
    "   , feature_names=labels, class_names=['Sacrificed', 'Saved'] \n",
    "   , filled = True))\n",
    "\n",
    "display(SVG(ugraph.pipe(format='svg')))"
   ]
  },
  {
   "cell_type": "code",
   "execution_count": 6,
   "metadata": {},
   "outputs": [
    {
     "data": {
      "image/svg+xml": [
       "<svg height=\"300pt\" viewBox=\"0.00 0.00 711.28 300.00\" width=\"711pt\" xmlns=\"http://www.w3.org/2000/svg\" xmlns:xlink=\"http://www.w3.org/1999/xlink\">\n",
       "<g class=\"graph\" id=\"graph0\" transform=\"scale(1 1) rotate(0) translate(4 296)\">\n",
       "<title>Tree</title>\n",
       "<polygon fill=\"#ffffff\" points=\"-4,4 -4,-296 707.2808,-296 707.2808,4 -4,4\" stroke=\"transparent\"/>\n",
       "<!-- 0 -->\n",
       "<g class=\"node\" id=\"node1\">\n",
       "<title>0</title>\n",
       "<polygon fill=\"#fcfeff\" points=\"439.3063,-292 264.2308,-292 264.2308,-214 439.3063,-214 439.3063,-292\" stroke=\"#000000\"/>\n",
       "<text fill=\"#000000\" font-family=\"Times,serif\" font-size=\"14.00\" text-anchor=\"middle\" x=\"351.7686\" y=\"-276.8\">AttributeLevel &lt;= 4.5</text>\n",
       "<text fill=\"#000000\" font-family=\"Times,serif\" font-size=\"14.00\" text-anchor=\"middle\" x=\"351.7686\" y=\"-262.8\">gini = 0.5</text>\n",
       "<text fill=\"#000000\" font-family=\"Times,serif\" font-size=\"14.00\" text-anchor=\"middle\" x=\"351.7686\" y=\"-248.8\">samples = 4141429</text>\n",
       "<text fill=\"#000000\" font-family=\"Times,serif\" font-size=\"14.00\" text-anchor=\"middle\" x=\"351.7686\" y=\"-234.8\">value = [2056480, 2084949]</text>\n",
       "<text fill=\"#000000\" font-family=\"Times,serif\" font-size=\"14.00\" text-anchor=\"middle\" x=\"351.7686\" y=\"-220.8\">class = Saved</text>\n",
       "</g>\n",
       "<!-- 1 -->\n",
       "<g class=\"node\" id=\"node2\">\n",
       "<title>1</title>\n",
       "<polygon fill=\"#f7d7c0\" points=\"342.793,-178 174.7441,-178 174.7441,-100 342.793,-100 342.793,-178\" stroke=\"#000000\"/>\n",
       "<text fill=\"#000000\" font-family=\"Times,serif\" font-size=\"14.00\" text-anchor=\"middle\" x=\"258.7686\" y=\"-162.8\">AttributeLevel &lt;= 2.5</text>\n",
       "<text fill=\"#000000\" font-family=\"Times,serif\" font-size=\"14.00\" text-anchor=\"middle\" x=\"258.7686\" y=\"-148.8\">gini = 0.482</text>\n",
       "<text fill=\"#000000\" font-family=\"Times,serif\" font-size=\"14.00\" text-anchor=\"middle\" x=\"258.7686\" y=\"-134.8\">samples = 1940325</text>\n",
       "<text fill=\"#000000\" font-family=\"Times,serif\" font-size=\"14.00\" text-anchor=\"middle\" x=\"258.7686\" y=\"-120.8\">value = [1153598, 786727]</text>\n",
       "<text fill=\"#000000\" font-family=\"Times,serif\" font-size=\"14.00\" text-anchor=\"middle\" x=\"258.7686\" y=\"-106.8\">class = Sacrificed</text>\n",
       "</g>\n",
       "<!-- 0&#45;&gt;1 -->\n",
       "<g class=\"edge\" id=\"edge1\">\n",
       "<title>0-&gt;1</title>\n",
       "<path d=\"M319.7632,-213.7677C312.5297,-204.9007 304.7761,-195.3964 297.3052,-186.2385\" fill=\"none\" stroke=\"#000000\"/>\n",
       "<polygon fill=\"#000000\" points=\"299.8662,-183.8409 290.8329,-178.3046 294.4421,-188.2658 299.8662,-183.8409\" stroke=\"#000000\"/>\n",
       "<text fill=\"#000000\" font-family=\"Times,serif\" font-size=\"14.00\" text-anchor=\"middle\" x=\"288.3096\" y=\"-198.977\">True</text>\n",
       "</g>\n",
       "<!-- 4 -->\n",
       "<g class=\"node\" id=\"node5\">\n",
       "<title>4</title>\n",
       "<polygon fill=\"#c3e1f7\" points=\"528.8063,-178 360.7308,-178 360.7308,-100 528.8063,-100 528.8063,-178\" stroke=\"#000000\"/>\n",
       "<text fill=\"#000000\" font-family=\"Times,serif\" font-size=\"14.00\" text-anchor=\"middle\" x=\"444.7686\" y=\"-162.8\">AttributeLevel &lt;= 8.5</text>\n",
       "<text fill=\"#000000\" font-family=\"Times,serif\" font-size=\"14.00\" text-anchor=\"middle\" x=\"444.7686\" y=\"-148.8\">gini = 0.484</text>\n",
       "<text fill=\"#000000\" font-family=\"Times,serif\" font-size=\"14.00\" text-anchor=\"middle\" x=\"444.7686\" y=\"-134.8\">samples = 2201104</text>\n",
       "<text fill=\"#000000\" font-family=\"Times,serif\" font-size=\"14.00\" text-anchor=\"middle\" x=\"444.7686\" y=\"-120.8\">value = [902882, 1298222]</text>\n",
       "<text fill=\"#000000\" font-family=\"Times,serif\" font-size=\"14.00\" text-anchor=\"middle\" x=\"444.7686\" y=\"-106.8\">class = Saved</text>\n",
       "</g>\n",
       "<!-- 0&#45;&gt;4 -->\n",
       "<g class=\"edge\" id=\"edge4\">\n",
       "<title>0-&gt;4</title>\n",
       "<path d=\"M383.7739,-213.7677C391.0075,-204.9007 398.761,-195.3964 406.2319,-186.2385\" fill=\"none\" stroke=\"#000000\"/>\n",
       "<polygon fill=\"#000000\" points=\"409.095,-188.2658 412.7042,-178.3046 403.6709,-183.8409 409.095,-188.2658\" stroke=\"#000000\"/>\n",
       "<text fill=\"#000000\" font-family=\"Times,serif\" font-size=\"14.00\" text-anchor=\"middle\" x=\"415.2275\" y=\"-198.977\">False</text>\n",
       "</g>\n",
       "<!-- 2 -->\n",
       "<g class=\"node\" id=\"node3\">\n",
       "<title>2</title>\n",
       "<polygon fill=\"#e0f0fb\" points=\"161.3063,-64 .2308,-64 .2308,0 161.3063,0 161.3063,-64\" stroke=\"#000000\"/>\n",
       "<text fill=\"#000000\" font-family=\"Times,serif\" font-size=\"14.00\" text-anchor=\"middle\" x=\"80.7686\" y=\"-48.8\">gini = 0.496</text>\n",
       "<text fill=\"#000000\" font-family=\"Times,serif\" font-size=\"14.00\" text-anchor=\"middle\" x=\"80.7686\" y=\"-34.8\">samples = 1137983</text>\n",
       "<text fill=\"#000000\" font-family=\"Times,serif\" font-size=\"14.00\" text-anchor=\"middle\" x=\"80.7686\" y=\"-20.8\">value = [520165, 617818]</text>\n",
       "<text fill=\"#000000\" font-family=\"Times,serif\" font-size=\"14.00\" text-anchor=\"middle\" x=\"80.7686\" y=\"-6.8\">class = Saved</text>\n",
       "</g>\n",
       "<!-- 1&#45;&gt;2 -->\n",
       "<g class=\"edge\" id=\"edge2\">\n",
       "<title>1-&gt;2</title>\n",
       "<path d=\"M193.7509,-99.9163C177.2433,-89.9932 159.5461,-79.3551 143.1716,-69.512\" fill=\"none\" stroke=\"#000000\"/>\n",
       "<polygon fill=\"#000000\" points=\"144.6007,-66.2873 134.2267,-64.135 140.9942,-72.2868 144.6007,-66.2873\" stroke=\"#000000\"/>\n",
       "</g>\n",
       "<!-- 3 -->\n",
       "<g class=\"node\" id=\"node4\">\n",
       "<title>3</title>\n",
       "<polygon fill=\"#eca36e\" points=\"341.3063,-64 180.2308,-64 180.2308,0 341.3063,0 341.3063,-64\" stroke=\"#000000\"/>\n",
       "<text fill=\"#000000\" font-family=\"Times,serif\" font-size=\"14.00\" text-anchor=\"middle\" x=\"260.7686\" y=\"-48.8\">gini = 0.332</text>\n",
       "<text fill=\"#000000\" font-family=\"Times,serif\" font-size=\"14.00\" text-anchor=\"middle\" x=\"260.7686\" y=\"-34.8\">samples = 802342</text>\n",
       "<text fill=\"#000000\" font-family=\"Times,serif\" font-size=\"14.00\" text-anchor=\"middle\" x=\"260.7686\" y=\"-20.8\">value = [633433, 168909]</text>\n",
       "<text fill=\"#000000\" font-family=\"Times,serif\" font-size=\"14.00\" text-anchor=\"middle\" x=\"260.7686\" y=\"-6.8\">class = Sacrificed</text>\n",
       "</g>\n",
       "<!-- 1&#45;&gt;3 -->\n",
       "<g class=\"edge\" id=\"edge3\">\n",
       "<title>1-&gt;3</title>\n",
       "<path d=\"M259.5019,-99.7647C259.6573,-91.4537 259.8219,-82.6472 259.9792,-74.2305\" fill=\"none\" stroke=\"#000000\"/>\n",
       "<polygon fill=\"#000000\" points=\"263.4788,-74.2806 260.1664,-64.2169 256.48,-74.1497 263.4788,-74.2806\" stroke=\"#000000\"/>\n",
       "</g>\n",
       "<!-- 5 -->\n",
       "<g class=\"node\" id=\"node6\">\n",
       "<title>5</title>\n",
       "<polygon fill=\"#8bc6f0\" points=\"524.3063,-64 363.2308,-64 363.2308,0 524.3063,0 524.3063,-64\" stroke=\"#000000\"/>\n",
       "<text fill=\"#000000\" font-family=\"Times,serif\" font-size=\"14.00\" text-anchor=\"middle\" x=\"443.7686\" y=\"-48.8\">gini = 0.414</text>\n",
       "<text fill=\"#000000\" font-family=\"Times,serif\" font-size=\"14.00\" text-anchor=\"middle\" x=\"443.7686\" y=\"-34.8\">samples = 1337724</text>\n",
       "<text fill=\"#000000\" font-family=\"Times,serif\" font-size=\"14.00\" text-anchor=\"middle\" x=\"443.7686\" y=\"-20.8\">value = [391848, 945876]</text>\n",
       "<text fill=\"#000000\" font-family=\"Times,serif\" font-size=\"14.00\" text-anchor=\"middle\" x=\"443.7686\" y=\"-6.8\">class = Saved</text>\n",
       "</g>\n",
       "<!-- 4&#45;&gt;5 -->\n",
       "<g class=\"edge\" id=\"edge5\">\n",
       "<title>4-&gt;5</title>\n",
       "<path d=\"M444.4019,-99.7647C444.3242,-91.4537 444.2419,-82.6472 444.1632,-74.2305\" fill=\"none\" stroke=\"#000000\"/>\n",
       "<polygon fill=\"#000000\" points=\"447.663,-74.1837 444.0696,-64.2169 440.6634,-74.2492 447.663,-74.1837\" stroke=\"#000000\"/>\n",
       "</g>\n",
       "<!-- 6 -->\n",
       "<g class=\"node\" id=\"node7\">\n",
       "<title>6</title>\n",
       "<polygon fill=\"#f7d8c2\" points=\"703.293,-64 542.2441,-64 542.2441,0 703.293,0 703.293,-64\" stroke=\"#000000\"/>\n",
       "<text fill=\"#000000\" font-family=\"Times,serif\" font-size=\"14.00\" text-anchor=\"middle\" x=\"622.7686\" y=\"-48.8\">gini = 0.483</text>\n",
       "<text fill=\"#000000\" font-family=\"Times,serif\" font-size=\"14.00\" text-anchor=\"middle\" x=\"622.7686\" y=\"-34.8\">samples = 863380</text>\n",
       "<text fill=\"#000000\" font-family=\"Times,serif\" font-size=\"14.00\" text-anchor=\"middle\" x=\"622.7686\" y=\"-20.8\">value = [511034, 352346]</text>\n",
       "<text fill=\"#000000\" font-family=\"Times,serif\" font-size=\"14.00\" text-anchor=\"middle\" x=\"622.7686\" y=\"-6.8\">class = Sacrificed</text>\n",
       "</g>\n",
       "<!-- 4&#45;&gt;6 -->\n",
       "<g class=\"edge\" id=\"edge6\">\n",
       "<title>4-&gt;6</title>\n",
       "<path d=\"M509.7862,-99.9163C526.2939,-89.9932 543.991,-79.3551 560.3655,-69.512\" fill=\"none\" stroke=\"#000000\"/>\n",
       "<polygon fill=\"#000000\" points=\"562.5429,-72.2868 569.3104,-64.135 558.9365,-66.2873 562.5429,-72.2868\" stroke=\"#000000\"/>\n",
       "</g>\n",
       "</g>\n",
       "</svg>"
      ],
      "text/plain": [
       "<IPython.core.display.SVG object>"
      ]
     },
     "metadata": {},
     "output_type": "display_data"
    }
   ],
   "source": [
    "# display the ctree\n",
    "labels = X2.columns\n",
    "cgraph = Source(tree.export_graphviz(clf_gini_c, out_file= None\n",
    "   , feature_names=labels, class_names=['Sacrificed', 'Saved'] \n",
    "   , filled = True))\n",
    "\n",
    "display(SVG(cgraph.pipe(format='svg')))"
   ]
  },
  {
   "cell_type": "code",
   "execution_count": null,
   "metadata": {},
   "outputs": [],
   "source": [
    "\"\"\"\n",
    "attept on another criterion\n",
    "\n",
    "# clf_entropy = DecisionTreeClassifier(criterion = \"entropy\", random_state = 100, max_depth=5,\n",
    "#                                      min_samples_leaf=round(38078300/5000))\n",
    "# clf_entropy.fit(X_train, y_train)\n",
    "\n",
    "\"\"\"\n",
    "\n",
    "# accuracy test with clf_entropy\n",
    "#y_pred = clf_entropy.predict(X_test)\n",
    "#print(accuracy_score(y_test, y_pred))\n",
    "\n",
    "# results in same accuracy when setting is same"
   ]
  },
  {
   "cell_type": "code",
   "execution_count": null,
   "metadata": {
    "scrolled": true
   },
   "outputs": [],
   "source": [
    "# print utree info\n",
    "print(\"utree depth is\", clf_gini_u.tree_.max_depth)\n",
    "print(\"number of leaves: \", clf_gini_u.tree_.node_count)\n",
    "\n",
    "# print ctree info\n",
    "print(\"utree depth is\", clf_gini_c.tree_.max_depth)\n",
    "print(\"number of leaves: \", clf_gini_c.tree_.node_count)\n",
    "\n",
    "# accuracy test\n",
    "y_pred_u = clf_gini_u.predict(X_test)\n",
    "print(accuracy_score(y_test, y_pred_u))\n",
    "\n",
    "y_pred_c = clf_gini_c.predict(X_test)\n",
    "print(accuracy_score(y_test, y_pred_c))"
   ]
  },
  {
   "cell_type": "code",
   "execution_count": null,
   "metadata": {},
   "outputs": [],
   "source": [
    "# Convert model from .dot to .png\n",
    "# the png can be found in the same file as the code\n",
    "\n",
    "from subprocess import call\n",
    "\n",
    "### utree ###\n",
    "tree.export_graphviz(clf_gini_u, out_file= 'tree_u.dot'\n",
    "   , feature_names=labels, class_names=['Sacrificed','Saved'] \n",
    "   , filled = True)\n",
    "\n",
    "call(['dot', '-Tpng', 'tree_u.dot', '-o', 'tree_u.png', '-Gdpi=100'])"
   ]
  },
  {
   "cell_type": "code",
   "execution_count": null,
   "metadata": {},
   "outputs": [],
   "source": [
    "### ctree ###\n",
    "tree.export_graphviz(clf_gini_c, out_file= 'tree_c.dot'\n",
    "   , feature_names=labels, class_names=['Sacrificed','Saved'] \n",
    "   , filled = True)\n",
    "\n",
    "call(['dot', '-Tpng', 'tree_c.dot', '-o', 'tree_c.png', '-Gdpi=600'])"
   ]
  },
  {
   "cell_type": "code",
   "execution_count": null,
   "metadata": {},
   "outputs": [],
   "source": []
  },
  {
   "cell_type": "code",
   "execution_count": null,
   "metadata": {},
   "outputs": [],
   "source": [
    "# 5% data loaded with max_depth = NONE\n",
    "# L1=0.7310951862412988\n",
    "# L2=0.7310951862412988\n",
    "\n",
    "# 25% data loaded \n",
    "# with tree depth 15\n",
    "# L2=0.7310860187843127"
   ]
  }
 ],
 "metadata": {
  "kernelspec": {
   "display_name": "Python 3",
   "language": "python",
   "name": "python3"
  },
  "language_info": {
   "codemirror_mode": {
    "name": "ipython",
    "version": 3
   },
   "file_extension": ".py",
   "mimetype": "text/x-python",
   "name": "python",
   "nbconvert_exporter": "python",
   "pygments_lexer": "ipython3",
   "version": "3.7.3"
  }
 },
 "nbformat": 4,
 "nbformat_minor": 2
}
