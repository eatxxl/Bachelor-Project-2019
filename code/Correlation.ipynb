{
 "cells": [
  {
   "cell_type": "code",
   "execution_count": null,
   "metadata": {},
   "outputs": [],
   "source": [
    "\"\"\"\n",
    "This is a program can compute correlations within data\n",
    "\"\"\""
   ]
  },
  {
   "cell_type": "code",
   "execution_count": 1,
   "metadata": {},
   "outputs": [],
   "source": [
    "# load packages\n",
    "import numpy as np\n",
    "import pandas as pd\n",
    "import seaborn as sns\n",
    "import random\n",
    "from matplotlib import pyplot as plt\n",
    "\n",
    "\"\"\"\n",
    " p defines the percentage of the lines\n",
    " if random from [0,1] interval is greater than 0.01 the row will be skipped\n",
    " originally from stackoverflow question no.22258491\n",
    "\"\"\"\n",
    "\n",
    "p = 0.1\n",
    "train = pd.read_csv('SharedResponsesFullFirstSessions.csv'\n",
    "                    ,skiprows = lambda x: x >  0 and random.random() > p)\n"
   ]
  },
  {
   "cell_type": "code",
   "execution_count": 3,
   "metadata": {},
   "outputs": [
    {
     "name": "stdout",
     "output_type": "stream",
     "text": [
      "Possiable combo for 'ScenarioType'&'DefaultChoice' could be:\n",
      "['Utilitarian More' 'Age Young' 'Fitness Fit' nan 'Species Hoomans'\n",
      " 'Gender Male' 'Social Status High']\n"
     ]
    }
   ],
   "source": [
    "# check how they match up\n",
    "train['Combo'] = train['ScenarioType'] +' '+ train['DefaultChoice']\n",
    "print(\"Possiable combo for 'ScenarioType'&'DefaultChoice' could be:\")\n",
    "print(train['Combo'].unique())"
   ]
  },
  {
   "cell_type": "code",
   "execution_count": 4,
   "metadata": {},
   "outputs": [
    {
     "name": "stdout",
     "output_type": "stream",
     "text": [
      "Dropped: ['UserID', 'ScenarioOrder', 'ResponseID', 'ExtendedSessionID', 'DescriptionShown', 'LeftHand', 'Template']\n"
     ]
    }
   ],
   "source": [
    "# remove some irrelavent columns\n",
    "drop_columns = ['UserID','ScenarioOrder','ResponseID','ExtendedSessionID',\n",
    "             'DescriptionShown','LeftHand','Template'] \n",
    "print(\"Dropped:\",drop_columns)\n",
    "\n",
    "train.drop(drop_columns,axis=1, inplace=True)"
   ]
  },
  {
   "cell_type": "code",
   "execution_count": 12,
   "metadata": {},
   "outputs": [],
   "source": [
    "# removing randomness\n",
    "mask1 = train['ScenarioTypeStrict'] != 'Random'\n",
    "mask2 = train['ScenarioType'] != 'Random'\n",
    "mask3 = pd.concat((mask1,mask2),axis= 1)\n",
    "mask4 = mask3.all(axis=1)\n",
    "\n",
    "train = train[mask4]"
   ]
  },
  {
   "cell_type": "code",
   "execution_count": 13,
   "metadata": {},
   "outputs": [
    {
     "name": "stdout",
     "output_type": "stream",
     "text": [
      "['More' 'Young' 'Fit' 'Pets' 'Fat' 'Less' 'Old' 'Hoomans' 'Female' 'Male'\n",
      " 'High' 'Low']\n",
      "['More' 'Young' 'Fit' 'Hoomans' 'Male' 'High']\n",
      "[1. 0.]\n",
      "[ True False]\n",
      "50.10446902835199\n"
     ]
    }
   ],
   "source": [
    "# if there is anything that is (highly) relevant for DefaultChoiceIsOmission\n",
    "# if all 'AttributeLevel' & 'DefaultChoice' are the same\n",
    "\n",
    "train['Flipped'] = (train['AttributeLevel'] == train['DefaultChoice'])\n",
    "average = (train['Flipped'] == train['DefaultChoiceIsOmission'] ).mean()\n",
    "print(train['AttributeLevel'].unique())\n",
    "print(train['DefaultChoice'].unique())\n",
    "print(train['DefaultChoiceIsOmission'].unique())\n",
    "print(train['Flipped'].unique())\n",
    "\n",
    "\"\"\"\n",
    "0      : they are opposite to each other\n",
    "0<avg<1: in between\n",
    "1      : they are the same\n",
    "\n",
    "\"\"\"\n",
    "\n",
    "print(100*average)\n",
    "\n",
    "# see the pairs:\n",
    "# train[['Flipped','DefaultChoiceIsOmission']]"
   ]
  },
  {
   "cell_type": "code",
   "execution_count": 18,
   "metadata": {},
   "outputs": [
    {
     "name": "stdout",
     "output_type": "stream",
     "text": [
      "[1. 0.]\n",
      "[0 1]\n",
      "[False  True]\n",
      "0.0\n"
     ]
    }
   ],
   "source": [
    "# if Intervention is somehow relevant\n",
    "\n",
    "train['FlippedAgain'] = (train['DefaultChoiceIsOmission'] == train['Intervention'])\n",
    "average = (train['Flipped'] == train['FlippedAgain'] ).mean()\n",
    "print(train['DefaultChoiceIsOmission'].unique())\n",
    "print(train['Intervention'].unique())\n",
    "print(train['FlippedAgain'].unique())\n",
    "print(100*average)\n",
    "\n",
    "# see the pairs:\n",
    "# train[['Flipped','FlippedAgain']]"
   ]
  },
  {
   "cell_type": "code",
   "execution_count": 16,
   "metadata": {},
   "outputs": [],
   "source": [
    "# generate the correlation map\n",
    "\n",
    "train['AttributeLevel'],_ = train['AttributeLevel'].factorize()\n",
    "train['DefaultChoice'],_  = pd.factorize(train['DefaultChoice'])\n",
    "train['ScenarioType'],_   = pd.factorize(train['ScenarioType'])\n",
    "\n",
    "corr = train.corr()"
   ]
  },
  {
   "cell_type": "code",
   "execution_count": null,
   "metadata": {},
   "outputs": [],
   "source": [
    "# display the correlation\n",
    "\n",
    "print(\"Correlation for variables:\")\n",
    "\n",
    "plt.figure(figsize=(11,9))\n",
    "ax = sns.heatmap(\n",
    "    corr, \n",
    "    vmin=-1, vmax=1, center=0,\n",
    "    cmap=sns.diverging_palette(20, 220, n=200),\n",
    "    annot=True,fmt=\".3f\",\n",
    "    square=True\n",
    ")\n",
    "ax.set_xticklabels(\n",
    "    ax.get_xticklabels(),\n",
    "    rotation=45,\n",
    "    horizontalalignment='right'\n",
    ")"
   ]
  },
  {
   "cell_type": "code",
   "execution_count": null,
   "metadata": {},
   "outputs": [],
   "source": []
  },
  {
   "cell_type": "code",
   "execution_count": null,
   "metadata": {},
   "outputs": [],
   "source": []
  }
 ],
 "metadata": {
  "kernelspec": {
   "display_name": "Python 3",
   "language": "python",
   "name": "python3"
  },
  "language_info": {
   "codemirror_mode": {
    "name": "ipython",
    "version": 3
   },
   "file_extension": ".py",
   "mimetype": "text/x-python",
   "name": "python",
   "nbconvert_exporter": "python",
   "pygments_lexer": "ipython3",
   "version": "3.7.3"
  }
 },
 "nbformat": 4,
 "nbformat_minor": 2
}
